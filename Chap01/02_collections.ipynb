{
 "cells": [
  {
   "cell_type": "markdown",
   "metadata": {},
   "source": [
    "### Collections"
   ]
  },
  {
   "cell_type": "code",
   "execution_count": 69,
   "metadata": {},
   "outputs": [],
   "source": [
    "from collections import namedtuple, deque, OrderedDict, defaultdict, ChainMap, Counter, UserDict, UserList, UserString"
   ]
  },
  {
   "cell_type": "markdown",
   "metadata": {},
   "source": [
    "### Namedtuples"
   ]
  },
  {
   "cell_type": "code",
   "execution_count": 2,
   "metadata": {},
   "outputs": [],
   "source": [
    "Books = namedtuple('Books', ['name', 'author', 'ISBN', 'quantity'])\n",
    "\n",
    "book_1 = Books('Pride and Prejudice', 'Jane Austen', 51244, 50)\n",
    "book_2 = Books('Harry Potter and the Philosophal Stone', 'J. K. Rowling', 41927, 28)\n",
    "book_3 = Books('Lord of The Rings', 'J. R. R. Tolkien', 31280, 45)"
   ]
  },
  {
   "cell_type": "code",
   "execution_count": 8,
   "metadata": {},
   "outputs": [
    {
     "name": "stdout",
     "output_type": "stream",
     "text": [
      "ISBN of book_3: 31280\n",
      "Name of book_2: Harry Potter and the Philosophal Stone\n",
      "Quantity of book_1: 50\n"
     ]
    }
   ],
   "source": [
    "print(f'ISBN of book_3: {book_3.ISBN}')\n",
    "print(f'Name of book_2: {book_2.name}')\n",
    "print(f'Quantity of book_1: {book_1.quantity}')"
   ]
  },
  {
   "cell_type": "markdown",
   "metadata": {},
   "source": [
    "### Deques"
   ]
  },
  {
   "cell_type": "code",
   "execution_count": 33,
   "metadata": {},
   "outputs": [
    {
     "name": "stdout",
     "output_type": "stream",
     "text": [
      "deque([])\n",
      "deque([1, 2, '3'])\n",
      "deque([0, 1, 2, '3', 4])\n",
      "deque([1, 2, '3'])\n"
     ]
    }
   ],
   "source": [
    "s = deque()\n",
    "print(s)\n",
    "\n",
    "my_queue = deque([1, 2, '3'])\n",
    "print(my_queue)\n",
    "\n",
    "my_queue.append(4)\n",
    "my_queue.appendleft(0)\n",
    "\n",
    "print(my_queue)\n",
    "\n",
    "my_queue.pop()\n",
    "my_queue.popleft()\n",
    "\n",
    "print(my_queue)"
   ]
  },
  {
   "cell_type": "markdown",
   "metadata": {},
   "source": [
    "### OrderedDicts"
   ]
  },
  {
   "cell_type": "code",
   "execution_count": 34,
   "metadata": {},
   "outputs": [
    {
     "name": "stdout",
     "output_type": "stream",
     "text": [
      "OrderedDict({1: 'a', 2: 'b', 3: 'c', 4: 'd', 5: 'e'})\n",
      "{1: 'a', 2: 'b', 3: 'c', 4: 'd', 5: 'e'}\n"
     ]
    }
   ],
   "source": [
    "ord_dict = OrderedDict(\n",
    "    {\n",
    "        1: 'a',\n",
    "        2: 'b',\n",
    "        3: 'c',\n",
    "        4: 'd'\n",
    "    }\n",
    ")\n",
    "\n",
    "ord_dict[5] = 'e'\n",
    "\n",
    "unord_dict = dict(\n",
    "    {\n",
    "        1: 'a',\n",
    "        2: 'b',\n",
    "        3: 'c',\n",
    "        4: 'd'\n",
    "    }\n",
    ")\n",
    "\n",
    "unord_dict[5] = 'e'\n",
    "\n",
    "print(ord_dict)\n",
    "print(unord_dict)"
   ]
  },
  {
   "cell_type": "markdown",
   "metadata": {},
   "source": [
    "### DefaultDicts"
   ]
  },
  {
   "cell_type": "code",
   "execution_count": 66,
   "metadata": {},
   "outputs": [
    {
     "name": "stdout",
     "output_type": "stream",
     "text": [
      "defaultdict(<class 'int'>, {})\n"
     ]
    }
   ],
   "source": [
    "def_dict = defaultdict(int)\n",
    "print(def_dict)"
   ]
  },
  {
   "cell_type": "code",
   "execution_count": 67,
   "metadata": {},
   "outputs": [
    {
     "name": "stdout",
     "output_type": "stream",
     "text": [
      "['data', 'python', 'data', 'data', 'structure', 'DSA', 'data', 'python']\n",
      "defaultdict(<class 'int'>, {'data': 4, 'python': 2, 'structure': 1, 'DSA': 1})\n",
      "Counter({'data': 4, 'python': 2, 'structure': 1, 'DSA': 1})\n"
     ]
    }
   ],
   "source": [
    "# Isso chama muito a atenção de quem está observando atentamente ao que o código faz\n",
    "words = str.split('data python data data structure DSA data python')\n",
    "print(words)\n",
    "\n",
    "# Conta a quantidade de registros em uma lista e ordena por chave e valor numa defaultdict\n",
    "for word in words:\n",
    "    def_dict[word] += 1\n",
    "\n",
    "print(def_dict) # Isso é animal D+, serve bem para análise de discurso"
   ]
  },
  {
   "cell_type": "markdown",
   "metadata": {},
   "source": [
    "### ChainMaps"
   ]
  },
  {
   "cell_type": "code",
   "execution_count": 63,
   "metadata": {},
   "outputs": [
    {
     "name": "stdout",
     "output_type": "stream",
     "text": [
      "['python', 'language', 'data', 'structure']\n",
      "[3, 4, 1, 2]\n",
      "1\n",
      "4\n"
     ]
    }
   ],
   "source": [
    "dict_1 = {'data': 1, 'structure': 2}\n",
    "dict_2 = {'python': 3, 'language': 4}\n",
    "\n",
    "chain = ChainMap(dict_1, dict_2)\n",
    "\n",
    "print(list(chain.keys()))\n",
    "print(list(chain.values()))\n",
    "print(chain['data'])\n",
    "print(chain['language'])"
   ]
  },
  {
   "cell_type": "markdown",
   "metadata": {},
   "source": [
    "### Counters"
   ]
  },
  {
   "cell_type": "code",
   "execution_count": 68,
   "metadata": {},
   "outputs": [
    {
     "name": "stdout",
     "output_type": "stream",
     "text": [
      "Counter({'data': 4, 'python': 2, 'structure': 1, 'DSA': 1})\n"
     ]
    }
   ],
   "source": [
    "words = str.split('data python data data structure DSA data python')\n",
    "\n",
    "# Descobri logo em seguida que o objeto Counter faz exatamente a mesma coisa que a iteração do defaultdict faz, mas de modo ainda mais fácil\n",
    "counter = Counter(words)\n",
    "print(counter)"
   ]
  },
  {
   "cell_type": "markdown",
   "metadata": {},
   "source": [
    "### UserDicts\n",
    "OBS: Não achei muito útil tentar suprimir funções de um objeto, visto que no livro, os nomes da função são diferentes dos nomes que o Python dá nativamente.\n",
    "Por exemplo, na próxima célula ele cria a função \"push\", dentro da classe. Não faz muito sentido tentar suprimir a função de inserir um novo valor, já que \"push\" e \"update\" são nomes diferentes de métodos que teoricamente fariam a mesma coisa. Eu acho que nesse caso é necessário sobrescrever a função."
   ]
  },
  {
   "cell_type": "code",
   "execution_count": 78,
   "metadata": {},
   "outputs": [
    {
     "name": "stdout",
     "output_type": "stream",
     "text": [
      "{'a': 1, 'b': 2, 'c': 3, 'd': 4}\n"
     ]
    },
    {
     "ename": "RuntimeError",
     "evalue": "Cannot insert",
     "output_type": "error",
     "traceback": [
      "\u001b[0;31m---------------------------------------------------------------------------\u001b[0m",
      "\u001b[0;31mRuntimeError\u001b[0m                              Traceback (most recent call last)",
      "Cell \u001b[0;32mIn[78], line 10\u001b[0m\n\u001b[1;32m      7\u001b[0m d\u001b[38;5;241m.\u001b[39mupdate({\u001b[38;5;124m'\u001b[39m\u001b[38;5;124md\u001b[39m\u001b[38;5;124m'\u001b[39m: \u001b[38;5;241m4\u001b[39m})\n\u001b[1;32m      8\u001b[0m \u001b[38;5;28mprint\u001b[39m(d)\n\u001b[0;32m---> 10\u001b[0m \u001b[43md\u001b[49m\u001b[38;5;241;43m.\u001b[39;49m\u001b[43mpush\u001b[49m\u001b[43m(\u001b[49m\u001b[38;5;124;43m'\u001b[39;49m\u001b[38;5;124;43me\u001b[39;49m\u001b[38;5;124;43m'\u001b[39;49m\u001b[43m,\u001b[49m\u001b[43m \u001b[49m\u001b[38;5;241;43m5\u001b[39;49m\u001b[43m)\u001b[49m\n",
      "Cell \u001b[0;32mIn[78], line 3\u001b[0m, in \u001b[0;36mMyDict.push\u001b[0;34m(self, key, value)\u001b[0m\n\u001b[1;32m      2\u001b[0m \u001b[38;5;28;01mdef\u001b[39;00m \u001b[38;5;21mpush\u001b[39m(\u001b[38;5;28mself\u001b[39m, key, value):\n\u001b[0;32m----> 3\u001b[0m     \u001b[38;5;28;01mraise\u001b[39;00m \u001b[38;5;167;01mRuntimeError\u001b[39;00m(\u001b[38;5;124m\"\u001b[39m\u001b[38;5;124mCannot insert\u001b[39m\u001b[38;5;124m\"\u001b[39m)\n",
      "\u001b[0;31mRuntimeError\u001b[0m: Cannot insert"
     ]
    }
   ],
   "source": [
    "class MyDict(UserDict):\n",
    "    # aqui ele vai tentar \"proibir\" a inserção de um novo elemento ao dicionário\n",
    "    def push(self, key, value):\n",
    "        raise RuntimeError(\"Cannot insert\")\n",
    "    \n",
    "d = MyDict({'a': 1, 'b': 2, 'c': 3})\n",
    "\n",
    "# Porém, de qualquer modo, eu ainda consigo adicionar elementos,\n",
    "# ou seja, minha função não é muito útil\n",
    "d.update({'d': 4})\n",
    "print(d)\n",
    "\n",
    "# Só aqui que vai acontecer o raise\n",
    "d.push('e', 5)"
   ]
  },
  {
   "cell_type": "markdown",
   "metadata": {},
   "source": [
    "### UserList\n",
    "OBS: Tentei mudar um pouco e usei o mesmo nome da função de adicionar um novo elemento (append). É um pouco mais útil..."
   ]
  },
  {
   "cell_type": "code",
   "execution_count": 79,
   "metadata": {},
   "outputs": [
    {
     "name": "stdout",
     "output_type": "stream",
     "text": [
      "<class '__main__.MyList'>\n"
     ]
    },
    {
     "ename": "RuntimeError",
     "evalue": "Cannot insert in the list",
     "output_type": "error",
     "traceback": [
      "\u001b[0;31m---------------------------------------------------------------------------\u001b[0m",
      "\u001b[0;31mRuntimeError\u001b[0m                              Traceback (most recent call last)",
      "Cell \u001b[0;32mIn[79], line 8\u001b[0m\n\u001b[1;32m      6\u001b[0m l \u001b[38;5;241m=\u001b[39m MyList([\u001b[38;5;241m1\u001b[39m, \u001b[38;5;241m2\u001b[39m, \u001b[38;5;241m3\u001b[39m])\n\u001b[1;32m      7\u001b[0m \u001b[38;5;28mprint\u001b[39m(\u001b[38;5;28mtype\u001b[39m(l))\n\u001b[0;32m----> 8\u001b[0m \u001b[43ml\u001b[49m\u001b[38;5;241;43m.\u001b[39;49m\u001b[43mappend\u001b[49m\u001b[43m(\u001b[49m\u001b[38;5;241;43m4\u001b[39;49m\u001b[43m)\u001b[49m\n\u001b[1;32m     10\u001b[0m \u001b[38;5;28mprint\u001b[39m(l)\n",
      "Cell \u001b[0;32mIn[79], line 4\u001b[0m, in \u001b[0;36mMyList.append\u001b[0;34m(self, value)\u001b[0m\n\u001b[1;32m      3\u001b[0m \u001b[38;5;28;01mdef\u001b[39;00m \u001b[38;5;21mappend\u001b[39m(\u001b[38;5;28mself\u001b[39m, value):\n\u001b[0;32m----> 4\u001b[0m     \u001b[38;5;28;01mraise\u001b[39;00m \u001b[38;5;167;01mRuntimeError\u001b[39;00m(\u001b[38;5;124m\"\u001b[39m\u001b[38;5;124mCannot insert in the list\u001b[39m\u001b[38;5;124m\"\u001b[39m)\n",
      "\u001b[0;31mRuntimeError\u001b[0m: Cannot insert in the list"
     ]
    }
   ],
   "source": [
    "class MyList(UserList):\n",
    "    # Crio uma classe com uma função que tem o mesmo propósito, porém com o mesmo nome da função nativa do Python (append)\n",
    "    def append(self, value):\n",
    "        raise RuntimeError(\"Cannot insert in the list\")\n",
    "    \n",
    "l = MyList([1, 2, 3])\n",
    "print(type(l))\n",
    "\n",
    "# Agora sim faz sentido, porque de fato eu não vou conseguir adicionar elementos nessa lista com o método \"append\"\n",
    "l.append(4)\n",
    "\n",
    "print(l)"
   ]
  },
  {
   "cell_type": "markdown",
   "metadata": {},
   "source": [
    "### UserStrings"
   ]
  },
  {
   "cell_type": "code",
   "execution_count": 82,
   "metadata": {},
   "outputs": [
    {
     "name": "stdout",
     "output_type": "stream",
     "text": [
      "machine\n",
      "machine learning\n"
     ]
    }
   ],
   "source": [
    "# Aqui faz total sentido, porque não se tenta suprimir o uso de uma função, mas adicionar uma nova funcionalidade a um tipo de dado\n",
    "class MyString(UserString):\n",
    "    def append(self, value):\n",
    "        self.data += value\n",
    "\n",
    "str_1 = MyString(\"machine\")\n",
    "print(str_1)\n",
    "str_1.append(\" learning\")\n",
    "print(str_1)"
   ]
  }
 ],
 "metadata": {
  "kernelspec": {
   "display_name": ".venv",
   "language": "python",
   "name": "python3"
  },
  "language_info": {
   "codemirror_mode": {
    "name": "ipython",
    "version": 3
   },
   "file_extension": ".py",
   "mimetype": "text/x-python",
   "name": "python",
   "nbconvert_exporter": "python",
   "pygments_lexer": "ipython3",
   "version": "3.12.1"
  }
 },
 "nbformat": 4,
 "nbformat_minor": 2
}
