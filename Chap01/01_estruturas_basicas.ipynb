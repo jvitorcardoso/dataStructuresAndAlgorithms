{
 "cells": [
  {
   "cell_type": "markdown",
   "metadata": {},
   "source": [
    "## Lições aprendidas"
   ]
  },
  {
   "cell_type": "code",
   "execution_count": 3,
   "metadata": {},
   "outputs": [
    {
     "name": "stdout",
     "output_type": "stream",
     "text": [
      "['data', 'Andy', 'hello', 'st']\n"
     ]
    }
   ],
   "source": [
    "# 1. Se eu quiser remover itens sequenciais de uma lista de uma só vez\n",
    "list_1 = ['data', 'Andy', False, 'structure', 5, 'hello', 'st']\n",
    "\n",
    "list_1[2:5] = []\n",
    "\n",
    "print(list_1)"
   ]
  },
  {
   "cell_type": "code",
   "execution_count": 4,
   "metadata": {},
   "outputs": [
    {
     "name": "stdout",
     "output_type": "stream",
     "text": [
      "True\n",
      "['data', 'Andy', 'hello', 'st', 1]\n",
      "['data', 'Andy', 'hello', 'st', 1]\n"
     ]
    }
   ],
   "source": [
    "# Shallow copy\n",
    "list_2 = list_1\n",
    "\n",
    "list_2 += [1]\n",
    "\n",
    "print(list_2 == list_1) # True\n",
    "\n",
    "print(list_2)\n",
    "\n",
    "print(list_1)"
   ]
  },
  {
   "cell_type": "code",
   "execution_count": 6,
   "metadata": {},
   "outputs": [
    {
     "name": "stdout",
     "output_type": "stream",
     "text": [
      "False\n",
      "['data', 'Andy', 'hello', 'st', 1, 'new']\n",
      "['data', 'Andy', 'hello', 'st', 1]\n"
     ]
    }
   ],
   "source": [
    "# Deep copy\n",
    "import copy\n",
    "\n",
    "list_3 = copy.deepcopy(list_1)\n",
    "\n",
    "list_3 += ['new']\n",
    "\n",
    "print(list_3 == list_1) # False\n",
    "\n",
    "print(list_3)\n",
    "\n",
    "print(list_1)"
   ]
  },
  {
   "cell_type": "code",
   "execution_count": 1,
   "metadata": {},
   "outputs": [
    {
     "name": "stdout",
     "output_type": "stream",
     "text": [
      "<class 'int'>\n",
      "<class 'tuple'>\n"
     ]
    }
   ],
   "source": [
    "a = (1) # int\n",
    "b = (1,) # tuple\n",
    "\n",
    "print(type(a))\n",
    "print(type(b))"
   ]
  },
  {
   "cell_type": "markdown",
   "metadata": {},
   "source": [
    "### Sets"
   ]
  },
  {
   "cell_type": "code",
   "execution_count": 7,
   "metadata": {},
   "outputs": [],
   "source": [
    "set_1 = {'data', 'structure'}\n",
    "set_2 = {'python', 'java', 'scala', 'sql', 'data'}"
   ]
  },
  {
   "cell_type": "code",
   "execution_count": 14,
   "metadata": {},
   "outputs": [
    {
     "name": "stdout",
     "output_type": "stream",
     "text": [
      "{'data', 'java', 'structure', 'python', 'sql', 'scala'}\n",
      "{'data', 'java', 'structure', 'python', 'sql', 'scala'}\n",
      "\n",
      "{'data'}\n",
      "{'data'}\n",
      "\n",
      "{'structure'}\n",
      "{'structure'}\n",
      "\n",
      "{'java', 'structure', 'python', 'scala', 'sql'}\n",
      "{'java', 'structure', 'python', 'scala', 'sql'}\n",
      "\n",
      "False\n",
      "False\n"
     ]
    }
   ],
   "source": [
    "# union\n",
    "print(set_1 | set_2)\n",
    "print(set_1.union(set_2))\n",
    "print()\n",
    "\n",
    "# intersect\n",
    "print(set_1 & set_2)\n",
    "print(set_1.intersection(set_2))\n",
    "print()\n",
    "\n",
    "# difference\n",
    "print(set_1 - set_2)\n",
    "print(set_1.difference(set_2))\n",
    "print()\n",
    "\n",
    "# symmmetric differente -> exatamente o oposto do intersect\n",
    "print(set_1 ^ set_2)\n",
    "print(set_1.symmetric_difference(set_2))\n",
    "print()\n",
    "\n",
    "# subset\n",
    "print(set_1 <= set_2)\n",
    "print(set_1.issubset(set_2))"
   ]
  },
  {
   "cell_type": "markdown",
   "metadata": {},
   "source": [
    "### Frozensets"
   ]
  },
  {
   "cell_type": "code",
   "execution_count": 15,
   "metadata": {},
   "outputs": [
    {
     "name": "stdout",
     "output_type": "stream",
     "text": [
      "frozenset({'and', 'structure', 'data', 'python'})\n"
     ]
    }
   ],
   "source": [
    "x = frozenset(['data', 'structure', 'and', 'python'])\n",
    "\n",
    "print(x)"
   ]
  },
  {
   "cell_type": "code",
   "execution_count": 29,
   "metadata": {},
   "outputs": [],
   "source": [
    "x = frozenset(['data'])\n",
    "y = frozenset(['structures'])\n",
    "z = frozenset(['python'])"
   ]
  },
  {
   "cell_type": "code",
   "execution_count": 30,
   "metadata": {},
   "outputs": [],
   "source": [
    "fs = {x, y, z}"
   ]
  },
  {
   "cell_type": "code",
   "execution_count": 34,
   "metadata": {},
   "outputs": [
    {
     "name": "stdout",
     "output_type": "stream",
     "text": [
      "frozenset({'structures'})\n",
      "frozenset({'data'})\n",
      "frozenset({'python'})\n"
     ]
    }
   ],
   "source": [
    "for x in fs:\n",
    "    print(x)"
   ]
  },
  {
   "cell_type": "code",
   "execution_count": 53,
   "metadata": {},
   "outputs": [
    {
     "name": "stdout",
     "output_type": "stream",
     "text": [
      "{frozenset({1, 2, 3}), frozenset({4, 5, 6}), frozenset({8, 9, 7})}\n",
      "{frozenset({1, 2, 3}), frozenset({4, 5, 6}), frozenset({'c', 'a', 'b'}), frozenset({8, 9, 7})}\n",
      "{frozenset({1, 2, 3}), frozenset({4, 5, 6}), frozenset({8, 9, 7})}\n",
      "{frozenset({4, 5, 6}), frozenset({8, 9, 7})}\n"
     ]
    }
   ],
   "source": [
    "e = frozenset((1, 2, 3))\n",
    "f = frozenset([4, 5, 6])\n",
    "g = frozenset({7, 8, 9})\n",
    "\n",
    "h = {e, f, g}\n",
    "\n",
    "print(h)\n",
    "\n",
    "h.add(frozenset(['a', 'b', 'c']))\n",
    "\n",
    "print(h)\n",
    "\n",
    "h.remove(frozenset(['a', 'b', 'c']))\n",
    "\n",
    "print(h)\n",
    "\n",
    "h.discard(frozenset([1, 2, 3]))\n",
    "\n",
    "print(h)"
   ]
  }
 ],
 "metadata": {
  "kernelspec": {
   "display_name": ".venv",
   "language": "python",
   "name": "python3"
  },
  "language_info": {
   "codemirror_mode": {
    "name": "ipython",
    "version": 3
   },
   "file_extension": ".py",
   "mimetype": "text/x-python",
   "name": "python",
   "nbconvert_exporter": "python",
   "pygments_lexer": "ipython3",
   "version": "3.12.1"
  }
 },
 "nbformat": 4,
 "nbformat_minor": 2
}
